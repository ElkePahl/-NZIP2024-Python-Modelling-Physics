{
  "nbformat": 4,
  "nbformat_minor": 0,
  "metadata": {
    "colab": {
      "provenance": []
    },
    "kernelspec": {
      "name": "python3",
      "display_name": "Python 3"
    },
    "language_info": {
      "name": "python"
    }
  },
  "cells": [
    {
      "cell_type": "markdown",
      "source": [
        "# Notebook 2: 1-Dimensional Kinematics\n",
        "\n",
        "This notebook is intended for use within Google Colab"
      ],
      "metadata": {
        "id": "s_t7sUKmBg2W"
      }
    },
    {
      "cell_type": "markdown",
      "source": [
        "# Introduction\n",
        "\n",
        "It is possible to solve practical problems with basic Python knowledge. This notebook will guide you through solving one-dimensional kinematics problems through applying what you learnt in Notebook 1."
      ],
      "metadata": {
        "id": "ILsOO8zBBxLl"
      }
    },
    {
      "cell_type": "markdown",
      "source": [
        "# Concept 1: Time and Position"
      ],
      "metadata": {
        "id": "8rgAuBEUHao0"
      }
    },
    {
      "cell_type": "markdown",
      "source": [
        "\n",
        "\n",
        "We are aiming to solve problems related to motion. This means it is essential to track the time and position of the object.\n",
        "\n",
        "Let's introduce two variables that represent the current time (in seconds) and current position (in metres) of the object:"
      ],
      "metadata": {
        "id": "H1bSynWpCjj-"
      }
    },
    {
      "cell_type": "code",
      "source": [
        "time = 0\n",
        "position = 0"
      ],
      "metadata": {
        "id": "1hbzZkbJD_4Q"
      },
      "execution_count": null,
      "outputs": []
    },
    {
      "cell_type": "markdown",
      "source": [
        "Knowing the position of the object at a single point in time is not particularly interesting, so let's introduce another two variables representing the object's position ten seconds later:"
      ],
      "metadata": {
        "id": "uSbyv1rVEGve"
      }
    },
    {
      "cell_type": "code",
      "source": [
        "time_2 = 10\n",
        "position_2 = 0"
      ],
      "metadata": {
        "id": "kxYs9UbcFCaJ"
      },
      "execution_count": null,
      "outputs": []
    },
    {
      "cell_type": "markdown",
      "source": [
        "Now that we have two points, we can try to see how this motion looks by plotting them on a graph.\n",
        "\n",
        "First, import numpy and matplotlib's pyplot (we have to import them again every time we use colab):"
      ],
      "metadata": {
        "id": "p-xku589FOPk"
      }
    },
    {
      "cell_type": "code",
      "execution_count": null,
      "metadata": {
        "id": "l7lvFxm9C0Qz"
      },
      "outputs": [],
      "source": [
        "import numpy as np\n",
        "import matplotlib.pyplot as plt"
      ]
    },
    {
      "cell_type": "markdown",
      "source": [
        "Next, we create lists to hold the time and position values, and add the four values to their respective lists. We add the point with the earlier time value first:"
      ],
      "metadata": {
        "id": "e3HUjHxXF-04"
      }
    },
    {
      "cell_type": "code",
      "source": [
        "#Creating our (initially empty) lists\n",
        "time_axis = []\n",
        "position_axis = []\n",
        "\n",
        "#Adding the first time and position to the lists\n",
        "time_axis = time_axis + [time]\n",
        "position_axis = position_axis + [position]"
      ],
      "metadata": {
        "id": "R2qqz2QRF-mh"
      },
      "execution_count": null,
      "outputs": []
    },
    {
      "cell_type": "markdown",
      "source": [
        "We then add the point with the later time value next:"
      ],
      "metadata": {
        "id": "9RPXpwmc6zGQ"
      }
    },
    {
      "cell_type": "code",
      "source": [
        "time_axis = time_axis + [time_2]\n",
        "position_axis = position_axis + [position_2]"
      ],
      "metadata": {
        "id": "Uj-a4-2O63Pa"
      },
      "execution_count": null,
      "outputs": []
    },
    {
      "cell_type": "markdown",
      "source": [
        "Take note that we place square brackets ```[]``` around the time and position values first, so that we are adding a list to a list (concatenation).\n",
        "\n",
        "This should produce lists with two distinct values for time and position:"
      ],
      "metadata": {
        "id": "qXuaa28u7Ciq"
      }
    },
    {
      "cell_type": "code",
      "source": [
        "print(time_axis)\n",
        "print(position_axis)"
      ],
      "metadata": {
        "id": "Wx8zFE8C7j0d"
      },
      "execution_count": null,
      "outputs": []
    },
    {
      "cell_type": "markdown",
      "source": [
        "Finally, we can use pyplot to graph the values:"
      ],
      "metadata": {
        "id": "yo0jM9x5GR4a"
      }
    },
    {
      "cell_type": "code",
      "source": [
        "my_plot = plt.plot(time_axis, position_axis)\n",
        "plt.setp(my_plot, marker = '.', markersize = 12)\n",
        "plt.title(\"Object Position vs Time\")\n",
        "plt.xlabel(\"Time (s)\")\n",
        "plt.ylabel(\"Position (m)\")\n",
        "plt.show()"
      ],
      "metadata": {
        "id": "jWnxWdv5GoHv"
      },
      "execution_count": null,
      "outputs": []
    },
    {
      "cell_type": "markdown",
      "source": [
        "At face value, the graph shows that the object maintains a constant position of 0 metres over time. In other words, it's stationary.\n",
        "\n",
        "In reality, we have only plotted two points describing the object's position (represented by the two dots). We have no idea where it was between ```time = 0``` and ```time_2 = 10```."
      ],
      "metadata": {
        "id": "m_fkWhnnG-ab"
      }
    },
    {
      "cell_type": "markdown",
      "source": [
        "\n",
        "\n",
        "---\n",
        "**Task 1**\n",
        "\n",
        "An object has a position of 5 metres at a time of 8 seconds. 2 seconds later, it is still at a position of 5 metres. Edit the code box below such that it represents this on a graph accurately:"
      ],
      "metadata": {
        "id": "_OdsmXc0ITz2"
      }
    },
    {
      "cell_type": "code",
      "source": [
        "time = -8\n",
        "position = 5\n",
        "time_2 = -10\n",
        "position_2 = 5\n",
        "\n",
        "time_axis = [time] + [time_2]\n",
        "position_axis = [position] + [position_2]\n",
        "\n",
        "my_plot = plt.plot(time_axis, position_axis)\n",
        "plt.setp(my_plot, marker = '.', markersize = 12)\n",
        "plt.title(\"Object Position vs Time\")\n",
        "plt.xlabel(\"Time (s)\")\n",
        "plt.ylabel(\"Position (m)\")\n",
        "plt.show()"
      ],
      "metadata": {
        "id": "qZjqSrooJqls"
      },
      "execution_count": null,
      "outputs": []
    },
    {
      "cell_type": "markdown",
      "source": [
        "The graph should show the position as constant at 5 metres from ```time = 8``` to ```time = 10```."
      ],
      "metadata": {
        "id": "AHrj8UxGzHDd"
      }
    },
    {
      "cell_type": "markdown",
      "source": [
        "# Concept 2: Incrementing Time"
      ],
      "metadata": {
        "id": "z17gn2SmIWPD"
      }
    },
    {
      "cell_type": "markdown",
      "source": [
        "\n",
        "\n",
        "Rather than typing out every single value of time and position related to the object, we can use a while loop to increment through a desired period of time and calculate the object's position as we go. This will let us plot many more points, as well as analyze objects that are actually moving.\n",
        "\n",
        "To refresh your memory, a while loop runs a piece of code **while** a logical statement remains true. They usually looks something like this:\n",
        "\n",
        "```\n",
        "while logical_statement:\n",
        "  do_something_useful\n",
        "  change_logical_statement\n",
        "\n",
        "```\n",
        "\n",
        "Let's bring back our variables representing time and position:"
      ],
      "metadata": {
        "id": "vfSHxEphKIxx"
      }
    },
    {
      "cell_type": "code",
      "source": [
        "time = 0\n",
        "position = 1"
      ],
      "metadata": {
        "id": "Nl4nJZQa0J8r"
      },
      "execution_count": null,
      "outputs": []
    },
    {
      "cell_type": "markdown",
      "source": [
        "But instead of creating another two variables for another time and position, we can create a variable representing the final point in time we are interested in.\n",
        "\n",
        "For example, if you wanted to analyze the object until ten seconds have passed, we do:"
      ],
      "metadata": {
        "id": "PXQJTzIp0MSt"
      }
    },
    {
      "cell_type": "code",
      "source": [
        "end_time = 10"
      ],
      "metadata": {
        "id": "1gtLznSz03Sv"
      },
      "execution_count": null,
      "outputs": []
    },
    {
      "cell_type": "markdown",
      "source": [
        "Next, we have to define the time increment. If we wanted to calculate the position every 0.2 seconds, we would do:"
      ],
      "metadata": {
        "id": "iRno-_Gj05cl"
      }
    },
    {
      "cell_type": "code",
      "source": [
        "time_increment = 0.2"
      ],
      "metadata": {
        "id": "rBtQg08b05El"
      },
      "execution_count": null,
      "outputs": []
    },
    {
      "cell_type": "markdown",
      "source": [
        "Finally, we create lists to hold the time and position values and fill them with a while loop.\n",
        "\n",
        "Each time the code within the while loop is executed, three things happen:\n",
        "\n",
        "\n",
        "1.   The current ```time``` is increased by the ```time_increment```\n",
        "2.   The new time is added to our list holding the time values (```time_axis```)\n",
        "3.   The new position is added to our list holding the position values (```position_axis```)"
      ],
      "metadata": {
        "id": "28kvoHhB2CR8"
      }
    },
    {
      "cell_type": "code",
      "source": [
        "time_axis = [time]\n",
        "position_axis = [position]\n",
        "\n",
        "while time < end_time:\n",
        "  time = time + time_increment\n",
        "  time_axis = time_axis + [time]\n",
        "  position_axis = position_axis + [position]\n"
      ],
      "metadata": {
        "id": "KHzVQl-W3Dl7"
      },
      "execution_count": null,
      "outputs": []
    },
    {
      "cell_type": "markdown",
      "source": [
        "The number of points in time we are able to plot this way greatly increases compared to the additional effort it takes to code. By implementing a while loop, we've gone from two points to fifty - have a look:"
      ],
      "metadata": {
        "id": "S-WcwV12c05H"
      }
    },
    {
      "cell_type": "code",
      "source": [
        "time_axis"
      ],
      "metadata": {
        "id": "MKHB5hoedbjp"
      },
      "execution_count": null,
      "outputs": []
    },
    {
      "cell_type": "markdown",
      "source": [
        "Now that we have the time and position values, we can plot out values to see..."
      ],
      "metadata": {
        "id": "xll7Js_V5HcX"
      }
    },
    {
      "cell_type": "code",
      "source": [
        "my_plot = plt.plot(time_axis, position_axis)\n",
        "plt.setp(my_plot, marker = '.', markersize = 8)\n",
        "plt.title(\"Object Position vs Time\")\n",
        "plt.xlabel(\"Time (s)\")\n",
        "plt.ylabel(\"Position (m)\")\n",
        "plt.ylim(0, 1.5)\n",
        "plt.show()"
      ],
      "metadata": {
        "id": "dUNg3wLr77fi"
      },
      "execution_count": null,
      "outputs": []
    },
    {
      "cell_type": "markdown",
      "source": [
        "... That our graph looks exactly the same as before. This is what we expect, as the only difference in the two graphs is that there are now additional time and position values in between the two points that we had before."
      ],
      "metadata": {
        "id": "6xImmZyg8E3U"
      }
    },
    {
      "cell_type": "markdown",
      "source": [
        "\n",
        "\n",
        "---\n",
        "**Task 2**\n",
        "\n",
        "Create a code box below and construct a graph representing an object stationary at 5 metres between ```time = 8``` and ```time = 10``` using a while loop with ```time_increment = 0.5```:"
      ],
      "metadata": {
        "id": "QgaSokAQ-Jrq"
      }
    },
    {
      "cell_type": "markdown",
      "source": [
        "When displayed, the graph should look identical to the correct solution to Task 1. Print out your list holding your time values, and check that there are five distinct values: ```[8, 8.5, 9, 9.5, 10]```. Note that the values may not be exact."
      ],
      "metadata": {
        "id": "EEZROvbO-4_O"
      }
    },
    {
      "cell_type": "markdown",
      "source": [
        "# Concept 3: Velocity"
      ],
      "metadata": {
        "id": "6YYiEfCMIqId"
      }
    },
    {
      "cell_type": "markdown",
      "source": [
        "\n",
        "\n",
        "Now that we know how to increment time, we can model objects that are actually moving. Much like how we changed the ```time``` value in our while loop using the ```time increment```, we need to introduce code that changes the object's ```position``` as ```time``` moves forward.\n",
        "\n",
        "Of course, if we're changing our ```position``` over ```time```, we must have ```velocity```.\n",
        "\n",
        "Here's an example, we first define the variables we had before. For an object is starting at 0 metres and incrementing time by 0.1 seconds for the next 30 seconds, our variables should be:\n"
      ],
      "metadata": {
        "id": "io3nOsKu_1zq"
      }
    },
    {
      "cell_type": "code",
      "source": [
        "time = 0\n",
        "position = 0\n",
        "end_time = 30\n",
        "time_increment = 0.1\n",
        "\n",
        "time_axis = [time]\n",
        "position_axis = [position]"
      ],
      "metadata": {
        "id": "slAn7VoslIGC"
      },
      "execution_count": null,
      "outputs": []
    },
    {
      "cell_type": "markdown",
      "source": [
        "We then have to add our ```velocity```. Given that the object moves forward 1 metre per second:"
      ],
      "metadata": {
        "id": "0Y4CM6m-lw0O"
      }
    },
    {
      "cell_type": "code",
      "source": [
        "velocity = 1"
      ],
      "metadata": {
        "id": "RWMSpUKnn0mn"
      },
      "execution_count": null,
      "outputs": []
    },
    {
      "cell_type": "markdown",
      "source": [
        "Next, we have to edit the while loop so that the position is changing by the velocity. As a reminder, this was our previous while loop:\n",
        "\n",
        "```\n",
        "while time < end_time:\n",
        "  time = time + time_increment\n",
        "  time_axis = time_axis + [time]\n",
        "  position_axis = position_axis + [position]\n",
        "```\n",
        "Since displacement is velocity multiplied by time, the line of code we should add into the while loop should be:\n",
        "\n",
        "```position = position + velocity * time_increment```\n",
        "\n",
        "Adding it in and plotting the result gives:"
      ],
      "metadata": {
        "id": "Xg3nsFQqn6lA"
      }
    },
    {
      "cell_type": "code",
      "source": [
        "while time < end_time:\n",
        "  time = time + time_increment\n",
        "  position = position + velocity * time_increment\n",
        "  time_axis = time_axis + [time]\n",
        "  position_axis = position_axis + [position]\n",
        "\n",
        "plt.plot(time_axis, position_axis)\n",
        "plt.title(\"Object Position vs Time\")\n",
        "plt.xlabel(\"Time (s)\")\n",
        "plt.ylabel(\"Position (m)\")\n",
        "plt.show()"
      ],
      "metadata": {
        "id": "rVncofr6lwF-"
      },
      "execution_count": null,
      "outputs": []
    },
    {
      "cell_type": "markdown",
      "source": [
        "We can finally see how an object's position will vary with constant velocity.\n",
        "\n",
        "Here's the full set of code from above, try changing the starting position and velocity and see what happens.\n",
        "\n",
        "- What does the graph do when the velocity is negative?\n",
        "- What about if it's zero?\n",
        "- How does the slope (gradient) of the graph change with the velocity value?"
      ],
      "metadata": {
        "id": "SqYF2sefeMAn"
      }
    },
    {
      "cell_type": "code",
      "source": [
        "time = 0\n",
        "position = 0\n",
        "end_time = 30\n",
        "time_increment = 0.1\n",
        "velocity = 1\n",
        "\n",
        "time_axis = [time]\n",
        "position_axis = [position]\n",
        "\n",
        "while time < end_time:\n",
        "  time = time + time_increment\n",
        "  position = position + velocity * time_increment\n",
        "  time_axis = time_axis + [time]\n",
        "  position_axis = position_axis + [position]\n",
        "\n",
        "plt.plot(time_axis, position_axis)\n",
        "plt.title(\"Object Position vs Time\")\n",
        "plt.xlabel(\"Time (s)\")\n",
        "plt.ylabel(\"Position (m)\")\n",
        "plt.show()"
      ],
      "metadata": {
        "id": "Bfr0tmOFeMTq"
      },
      "execution_count": null,
      "outputs": []
    },
    {
      "cell_type": "markdown",
      "source": [
        "You should understand that we aren't using any sort of complicated formula or technique here, we are literally calculating our new ```position``` from our old ```position``` by adding a multiple of the ```velocity``` value.\n",
        "\n",
        " Now that we've added velocity to the object, we can record and plot velocity over time as well. We can follow the exact same procedure as with our other values:\n",
        "\n",
        "\n",
        "\n",
        "1.   Create a list holding the initial value of velocity - ```velocity_axis = [velocity]```\n",
        "2.   Add subsequent values of velocity to the list via the while loop - ```velocity_axis = velocity_axis + [velocity]```\n",
        "\n",
        "Once again using the example from above:"
      ],
      "metadata": {
        "id": "H69UBWCoFh5z"
      }
    },
    {
      "cell_type": "code",
      "source": [
        "time = 0\n",
        "position = 0\n",
        "velocity = 1\n",
        "end_time = 30\n",
        "time_increment = 0.1\n",
        "\n",
        "time_axis = [time]\n",
        "position_axis = [position]\n",
        "velocity_axis = [velocity]\n",
        "\n",
        "while time < end_time:\n",
        "  time = time + time_increment\n",
        "  position = position + velocity * time_increment\n",
        "  time_axis = time_axis + [time]\n",
        "  position_axis = position_axis + [position]\n",
        "  velocity_axis = velocity_axis + [velocity]\n",
        "\n",
        "plt.plot(time_axis, velocity_axis)\n",
        "plt.title(\"Object Velocity vs Time\")\n",
        "plt.xlabel(\"Time (s)\")\n",
        "plt.ylabel(\"Velocity (m/s)\")\n",
        "plt.ylim(0, 1.5)\n",
        "plt.show()"
      ],
      "metadata": {
        "id": "SGCUO5gaIVUs"
      },
      "execution_count": null,
      "outputs": []
    },
    {
      "cell_type": "markdown",
      "source": [
        "You don't have to keep scrolling up and down the page to check how the object's position varied with time. We can use matplotlib's ```subplots()``` function to plot multiple graphs at the same time:"
      ],
      "metadata": {
        "id": "xK3cdu9fhaOy"
      }
    },
    {
      "cell_type": "code",
      "source": [
        "composite_plot, (graph_1, graph_2) = plt.subplots(2)\n",
        "graph_1.plot(time_axis, position_axis)\n",
        "graph_1.set_title(\"Top to Bottom: Position/Velocity vs Time\")\n",
        "graph_2.plot(time_axis, velocity_axis)"
      ],
      "metadata": {
        "id": "yKxQqtp1iSzW"
      },
      "execution_count": null,
      "outputs": []
    },
    {
      "cell_type": "markdown",
      "source": [
        "\n",
        "\n",
        "---\n",
        "\n",
        "**Task 3**\n",
        "\n",
        "Complete the code below to model an object falling from a height of 60 metres at a constant velocity of 3 metres per second:"
      ],
      "metadata": {
        "id": "4QXJZWQgIBTL"
      }
    },
    {
      "cell_type": "code",
      "source": [
        "time = 0\n",
        "position =\n",
        "velocity =\n",
        "end_time =\n",
        "time_increment =\n",
        "\n",
        "time_axis = [time]\n",
        "position_axis = [position]\n",
        "velocity_axis = [velocity]\n",
        "\n",
        "while time < end_time:\n",
        "  time = time + time_increment\n",
        "\n",
        "\n"
      ],
      "metadata": {
        "id": "kjodkzfwKvb7"
      },
      "execution_count": null,
      "outputs": []
    },
    {
      "cell_type": "markdown",
      "source": [
        "Then, run this code box to produce the object's position against time & velocity against time graphs."
      ],
      "metadata": {
        "id": "arlo-ppALnJ8"
      }
    },
    {
      "cell_type": "code",
      "source": [
        "composite_plot, (graph_1, graph_2) = plt.subplots(2)\n",
        "graph_1.plot(time_axis, position_axis)\n",
        "graph_1.set_title(\"Top to Bottom: Position/Velocity vs Time\")\n",
        "graph_2.plot(time_axis, velocity_axis)"
      ],
      "metadata": {
        "id": "_2KLCjltwVTM"
      },
      "execution_count": null,
      "outputs": []
    },
    {
      "cell_type": "markdown",
      "source": [
        "If done correctly, your position graph should be a straight line slanted diagonally downwards.\n",
        "\n",
        "You may experience some issues when you are defining your ```end_time``` value. If you made the value too small, your graph would only show part of the object's motion, too large, and it would show your object falling through the floor.\n",
        "\n",
        "Generally speaking, it is better to set your ```end_time``` on the larger side and just ignore the bit that doesn't make sense (of course, you could also just change the value until the graph looks fine)."
      ],
      "metadata": {
        "id": "MJMxgCydvvjU"
      }
    },
    {
      "cell_type": "markdown",
      "source": [
        "# Concept 4: Acceleration"
      ],
      "metadata": {
        "id": "kcKPFmBrJsnj"
      }
    },
    {
      "cell_type": "markdown",
      "source": [
        "\n",
        "\n",
        "We've learnt how to change both time and position now. We can apply the same methodology to change velocity and model an object undergoing acceleration. Just like how we did with velocity, we:\n",
        "\n",
        "\n",
        "1.   Introduce a variable to represent acceleration\n",
        "2.   Create a list to hold the acceleration values\n",
        "3.   Add code to the while loop to change velocity by the acceleration and add acceleration values to the list\n",
        "\n",
        "Like so:"
      ],
      "metadata": {
        "id": "jOQ_n1zVxf4m"
      }
    },
    {
      "cell_type": "code",
      "source": [
        "#Note the new acceleration variable and acceleration_axis list\n",
        "time = 0\n",
        "position = 0\n",
        "velocity = 0\n",
        "acceleration = 1\n",
        "end_time = 60\n",
        "time_increment = 0.1\n",
        "\n",
        "time_axis = [time]\n",
        "position_axis = [position]\n",
        "velocity_axis = [velocity]\n",
        "acceleration_axis = [acceleration]\n",
        "\n",
        "while time < end_time:\n",
        "  time = time + time_increment\n",
        "  position = position + velocity * time_increment\n",
        "  #new line changing velocity\n",
        "  velocity = velocity + acceleration * time_increment\n",
        "  time_axis = time_axis + [time]\n",
        "  position_axis = position_axis + [position]\n",
        "  velocity_axis = velocity_axis + [velocity]\n",
        "  #new line adding acceleration to its list\n",
        "  acceleration_axis = acceleration_axis + [acceleration]\n",
        "\n",
        "\n",
        "composite_plot, (graph_1, graph_2, graph_3) = plt.subplots(3)\n",
        "graph_1.plot(time_axis, position_axis)\n",
        "graph_1.set_title(\"Top to Bottom: Position/Velocity/Acceleration vs Time\")\n",
        "graph_2.plot(time_axis, velocity_axis)\n",
        "graph_3.plot(time_axis, acceleration_axis)\n"
      ],
      "metadata": {
        "id": "2QeprtgJaemR"
      },
      "execution_count": null,
      "outputs": []
    },
    {
      "cell_type": "markdown",
      "source": [
        "Try changing the starting position, velocity and acceleration around and see its effect on the graph's behaviour.\n",
        "- What does the graph look like when the object starts with high velocity but slows down over time?\n",
        "- What if the object had negative velocity, but has positive acceleration?\n",
        "- What about when the acceleration is zero?\n",
        "-How does acceleration affect how the slope of the graph changes?"
      ],
      "metadata": {
        "id": "TxZQLVAcj8Vh"
      }
    },
    {
      "cell_type": "markdown",
      "source": [
        "\n",
        "\n",
        "---\n",
        "\n",
        "**Task 4**\n",
        "\n",
        "Match the initial conditions given to its resulting position vs time graph:\n",
        "\n",
        "1).\n",
        "\n",
        "![position v time 1.png](data:image/png;base64,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)\n",
        "\n",
        "\n",
        "2).\n",
        "\n",
        "\n",
        "![position v time 2.png](data:image/png;base64,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)\n",
        "\n",
        "\n",
        "3).\n",
        "\n",
        "\n",
        "![position v time 3.png](data:image/png;base64,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)"
      ],
      "metadata": {
        "id": "xK7B8gJOdz4W"
      }
    },
    {
      "cell_type": "markdown",
      "source": [
        "a).\n",
        "```\n",
        "position = 0\n",
        "velocity = 25\n",
        "acceleration = -1\n",
        "```\n",
        "b).\n",
        "```\n",
        "position = 0\n",
        "velocity = 0\n",
        "acceleration = 0.1\n",
        "```\n",
        "c).\n",
        "```\n",
        "position = 80\n",
        "velocity = 0\n",
        "acceleration = -0.05\n",
        "```\n",
        "\n",
        "Remember that if you have the initial conditions, you can just plot the graph yourself and see what it gives you. It's one of the advantages of solving physics problems this way!"
      ],
      "metadata": {
        "id": "UTCigPTlxy-C"
      }
    },
    {
      "cell_type": "markdown",
      "source": [
        "# Concept 5: Intersection of Two Plots"
      ],
      "metadata": {
        "id": "of60LAUlKfWU"
      }
    },
    {
      "cell_type": "markdown",
      "source": [
        "\n",
        "\n",
        "Now that you've been thoroughly acquainted with building the code to graph equations, we can use it to solve more complex problems.\n",
        "\n",
        "For instance, imagine that a rabbit stole your pocketwatch and you want to know how long you would have to run after it before you caught up. Traditionally, we would solve this kind of problem with simultaneous equations like these:\n",
        "\n",
        "```rabbit_x = 50 + 1 * t```\n",
        "\n",
        "```my_x = my_v * t```\n",
        "\n",
        "```my_v = 0.1 * t```\n",
        "\n",
        "But now we know that if we had the initial conditions, we could just recreate the motion of both you and the rabbit and see when you catch up on a graph. So let's do just that!\n",
        "\n",
        "We can see that the rabbit's starting position is 50 metres, and it's moving 1 metre per second, so:"
      ],
      "metadata": {
        "id": "ZAGSZoUHjG00"
      }
    },
    {
      "cell_type": "code",
      "source": [
        "rabbit_position = 50\n",
        "rabbit_velocity = 1\n",
        "\n",
        "rabbit_position_axis = [rabbit_position]"
      ],
      "metadata": {
        "id": "nK6c9PQK4bMm"
      },
      "execution_count": null,
      "outputs": []
    },
    {
      "cell_type": "markdown",
      "source": [
        "As for your initial conditions, we can see that you start at 0 metres, move at 0 metres per second, but you are accelerating at 0.1 metres per second per second. Therefore:"
      ],
      "metadata": {
        "id": "KhATwA2x6wuu"
      }
    },
    {
      "cell_type": "code",
      "source": [
        "your_position = 0\n",
        "your_velocity = 0\n",
        "your_acceleration = 0.1\n",
        "\n",
        "your_position_axis = [your_position]"
      ],
      "metadata": {
        "id": "73aG0TEg6k08"
      },
      "execution_count": null,
      "outputs": []
    },
    {
      "cell_type": "markdown",
      "source": [
        "Now we can set our ```end_time```, ```time_increment``` and ```time_axis``` as normal and run the while loop:"
      ],
      "metadata": {
        "id": "pK2aJ6XH70Bs"
      }
    },
    {
      "cell_type": "code",
      "source": [
        "time = 0\n",
        "end_time = 60\n",
        "time_increment = 0.1\n",
        "time_axis = [time]\n",
        "\n",
        "while time < end_time:\n",
        "  time = time + time_increment\n",
        "  rabbit_position = rabbit_position + rabbit_velocity * time_increment\n",
        "  your_position = your_position + your_velocity * time_increment\n",
        "  your_velocity = your_velocity + your_acceleration * time_increment\n",
        "\n",
        "  time_axis = time_axis + [time]\n",
        "  rabbit_position_axis = rabbit_position_axis + [rabbit_position]\n",
        "  your_position_axis = your_position_axis + [your_position]"
      ],
      "metadata": {
        "id": "bD96zM516lCr"
      },
      "execution_count": null,
      "outputs": []
    },
    {
      "cell_type": "markdown",
      "source": [
        "Now we can just plot both the rabbit and your motion onto a graph and read off the answer:"
      ],
      "metadata": {
        "id": "M2eiCM71857W"
      }
    },
    {
      "cell_type": "code",
      "source": [
        "#plot both the rabbit's position AND your position!\n",
        "plt.plot(time_axis, rabbit_position_axis)\n",
        "plt.plot(time_axis, your_position_axis)\n",
        "plt.xlabel(\"Time (s)\")\n",
        "plt.ylabel(\"Position (m)\")\n",
        "plt.title(\"Position vs Time for Rabbit (Blue) and You (Orange)\")"
      ],
      "metadata": {
        "id": "HbGaOv-Q9coi"
      },
      "execution_count": null,
      "outputs": []
    },
    {
      "cell_type": "markdown",
      "source": [
        "By eye, it's about 43 seconds. We can zoom in to see that the exact solution is somewhere between 43 seconds and 43.5 seconds."
      ],
      "metadata": {
        "id": "-DJV_AnW-Znx"
      }
    },
    {
      "cell_type": "code",
      "source": [
        "plt.plot(time_axis, rabbit_position_axis)\n",
        "plt.plot(time_axis, your_position_axis)\n",
        "plt.xlim(41, 45)\n",
        "plt.xlabel(\"Time (s)\")\n",
        "plt.ylabel(\"Position (m)\")\n",
        "plt.title(\"Position vs Time for Rabbit (Blue) and You (Orange)\")"
      ],
      "metadata": {
        "id": "Rfiz4USQB3Jf"
      },
      "execution_count": null,
      "outputs": []
    },
    {
      "cell_type": "markdown",
      "source": [
        "Remember that since this is a numerical solution (we're calculating our future position), so we don't need an exact solution since we don't have perfect accuracy anyways. If we increase the ```time_increment``` we can see this idea in action:"
      ],
      "metadata": {
        "id": "qkA188_NCNPG"
      }
    },
    {
      "cell_type": "code",
      "source": [
        "rabbit_position = 50\n",
        "rabbit_velocity = 1\n",
        "rabbit_position_axis = [rabbit_position]\n",
        "\n",
        "your_position = 0\n",
        "your_velocity = 0\n",
        "your_acceleration = 0.1\n",
        "your_position_axis = [your_position]\n",
        "\n",
        "time = 0\n",
        "end_time = 60\n",
        "#time_increment now 10 instead of 0.1 -  we're doing 6 calculations as opposed to 600\n",
        "time_increment = 10\n",
        "time_axis = [time]\n",
        "\n",
        "while time < end_time:\n",
        "  time = time + time_increment\n",
        "  rabbit_position = rabbit_position + rabbit_velocity * time_increment\n",
        "  your_position = your_position + your_velocity * time_increment\n",
        "  your_velocity = your_velocity + your_acceleration * time_increment\n",
        "\n",
        "  time_axis = time_axis + [time]\n",
        "  rabbit_position_axis = rabbit_position_axis + [rabbit_position]\n",
        "  your_position_axis = your_position_axis + [your_position]\n",
        "\n",
        "plt.plot(time_axis, rabbit_position_axis)\n",
        "plt.plot(time_axis, your_position_axis)\n",
        "plt.xlabel(\"Time (s)\")\n",
        "plt.ylabel(\"Position (m)\")\n",
        "plt.title(\"Position vs Time for Rabbit (Blue) and You (Orange)\")"
      ],
      "metadata": {
        "id": "fLMnOJbKV3Vj"
      },
      "execution_count": null,
      "outputs": []
    },
    {
      "cell_type": "markdown",
      "source": [
        "Now, it would appear as if you caught up to the rabbit at ~49 seconds instead. In other words, the accuracy of the solution varies with how you decide to model the problem. This means that it would be disingenuous to report our original answer (43 seconds) with a high number of decimal places, because we couldn't be sure that our model is capable of giving such an accurate answer in the first place. Giving our answer with the precision of three decimal places would be meaningless if our uncertainty was 0.1.\n",
        "\n",
        "Having a lower accuracy than an analytical solution is a natural consequence of using this method. In real life, it is often important to consider a balance between the accuracy of the model and computing power. Where this balance lies depends entirely on the problem."
      ],
      "metadata": {
        "id": "aN_dsG6WWL11"
      }
    },
    {
      "cell_type": "markdown",
      "source": [
        "\n",
        "\n",
        "---\n",
        "**TASK 5**\n",
        "\n",
        "The rabbit drinks a magic potion and changes its initial conditions to:\n",
        "\n",
        "\n",
        "*   A starting position of 50 metres\n",
        "*   A starting velocity of 5 metres per second\n",
        "* A starting acceleration of 1 metre per second per second\n",
        "\n",
        "Likewise, this time you were on high alert, so you take off running at:\n",
        "* A starting position of 0 metres\n",
        "* A starting velocity of 10 metres per second\n",
        "* a starting acceleration of 0.5 metres per second\n",
        "\n",
        "Fill in the initial conditions below AND complete the while loop to account for the rabbit's acceleration to figure out when you catch up to the rabbit:"
      ],
      "metadata": {
        "id": "KcgevUS9Zn9-"
      }
    },
    {
      "cell_type": "code",
      "source": [
        "rabbit_position =\n",
        "rabbit_velocity =\n",
        "rabbit_acceleration =\n",
        "rabbit_position_axis = [rabbit_position]\n",
        "\n",
        "your_position =\n",
        "your_velocity =\n",
        "your_acceleration =\n",
        "your_position_axis = [your_position]\n",
        "\n",
        "time = 0\n",
        "end_time = 60\n",
        "time_increment = 0.1\n",
        "time_axis = [time]\n",
        "\n",
        "while time < end_time:\n",
        "  time = time + time_increment\n",
        "  rabbit_position = rabbit_position + rabbit_velocity * time_increment\n",
        "  your_position = your_position + your_velocity * time_increment\n",
        "\n",
        "  #change the line below such that it accounts for the acceleration of the rabbit (it should look very similar to the line that changes your_velocity)\n",
        "  rabbit_velocity =\n",
        "  your_velocity = your_velocity + your_acceleration * time_increment\n",
        "\n",
        "  time_axis = time_axis + [time]\n",
        "  rabbit_position_axis = rabbit_position_axis + [rabbit_position]\n",
        "  your_position_axis = your_position_axis + [your_position]\n",
        "\n",
        "plt.plot(time_axis, rabbit_position_axis)\n",
        "plt.plot(time_axis, your_position_axis)\n",
        "plt.xlabel(\"Time (s)\")\n",
        "plt.ylabel(\"Position (m)\")\n",
        "plt.title(\"Position vs Time for Rabbit (Blue) and You (Orange)\")"
      ],
      "metadata": {
        "id": "rNJlc-5Nax_Q"
      },
      "execution_count": null,
      "outputs": []
    },
    {
      "cell_type": "markdown",
      "source": [
        "The graph should show that you *never* catch up to the rabbit in this scenario! This is equivalent to having no solution to the set of simultaneous equations."
      ],
      "metadata": {
        "id": "SVy14-U8dzwy"
      }
    },
    {
      "cell_type": "markdown",
      "source": [
        "# Extension Activity 1: Motion with Conditional Statements"
      ],
      "metadata": {
        "id": "5n1606GHLjfu"
      }
    },
    {
      "cell_type": "markdown",
      "source": [
        "\n",
        "\n",
        "Let's combine what we have learnt in this notebook with the conditional statements that we've learnt in the past. As a reminder, conditional statements act on whether a condition evaluates to ```TRUE``` or ```FALSE```. For instance, the ```while``` loops that we've been using so much are designed to keep running the code inside them so long as the condition at the start evaluates to ```TRUE```.\n",
        "\n",
        "We don't have to use another ```while``` loop though, the most basic conditional statement would be an ```if``` statement, like so:"
      ],
      "metadata": {
        "id": "xbHA7Yk-eMeV"
      }
    },
    {
      "cell_type": "code",
      "source": [
        "#If 1 is less than 2...\n",
        "if 1 < 2:\n",
        "  print(\"One is, in fact, less than two.\")"
      ],
      "metadata": {
        "id": "RsjCIm8H3XkF"
      },
      "execution_count": null,
      "outputs": []
    },
    {
      "cell_type": "markdown",
      "source": [
        "We can use conditional statements to change how our object behaves at different points in its motion. We could change our acceleration to simulate an external force, or change our position to simulate teleportation if you wanted to.\n",
        "\n",
        "Here's an easy example of a person who starts walking at a constant velocity, but then decides to slow down after a while. Can you identify when they start to slow down?"
      ],
      "metadata": {
        "id": "RNEfIdzR3hkg"
      }
    },
    {
      "cell_type": "code",
      "source": [
        "time = 0\n",
        "position = 0\n",
        "velocity = 1\n",
        "acceleration = 0\n",
        "end_time = 30\n",
        "time_increment = 0.1\n",
        "\n",
        "time_axis = [time]\n",
        "position_axis = [position]\n",
        "velocity_axis = [velocity]\n",
        "acceleration_axis = [acceleration]\n",
        "\n",
        "while time < end_time:\n",
        "  time = time + time_increment\n",
        "  position = position + velocity * time_increment\n",
        "  velocity = velocity + acceleration * time_increment\n",
        "  if time >= 10:\n",
        "    acceleration = -0.05\n",
        "  time_axis = time_axis + [time]\n",
        "  position_axis = position_axis + [position]\n",
        "  velocity_axis = velocity_axis + [velocity]\n",
        "  acceleration_axis = acceleration_axis + [acceleration]\n",
        "\n",
        "plt.plot(time_axis, position_axis)\n",
        "plt.title(\"Position vs Time of someone who doesn't want to keep walking\")\n",
        "plt.ylabel(\"Position (m)\")\n",
        "plt.xlabel(\"Time (s)\")\n",
        "plt.show()"
      ],
      "metadata": {
        "id": "bw7OIw9-5Hq2"
      },
      "execution_count": null,
      "outputs": []
    },
    {
      "cell_type": "markdown",
      "source": [
        "It might be difficult to make out when exactly they slow down on the graph. If that's the case, why not have a look at the code and see if you can pick it out there?\n",
        "\n",
        "To make it really obvious, run the code box below to lay out the graph's velocity and acceleration over time:"
      ],
      "metadata": {
        "id": "jjVOOiVh6bWr"
      }
    },
    {
      "cell_type": "code",
      "source": [
        "composite_plot, (graph_1, graph_2, graph_3) = plt.subplots(3)\n",
        "graph_1.plot(time_axis, position_axis)\n",
        "graph_1.set_title(\"Top to Bottom: Position/Velocity/Acceleration vs Time\")\n",
        "graph_2.plot(time_axis, velocity_axis)\n",
        "graph_3.plot(time_axis, acceleration_axis)"
      ],
      "metadata": {
        "id": "74PS37yd5kD3"
      },
      "execution_count": null,
      "outputs": []
    },
    {
      "cell_type": "markdown",
      "source": [
        "We can see how by adding this conditional statement:\n",
        "\n",
        "```\n",
        "if time >= 10:\n",
        "    acceleration = -0.05\n",
        "```\n",
        "Our acceleration suddenly changes 10 seconds into our motion. Of course, we aren't just limited to this.\n",
        "\n",
        "With an ```if else``` statement like so:\n",
        "\n",
        "```\n",
        "if round(time) == 10:\n",
        "  acceleration = -1.5\n",
        "else:\n",
        "  acceleration = 0\n",
        "\n",
        "```\n",
        "We can simulate an instananeous collision.\n",
        "\n",
        "Below is the code we ran earlier, try replacing the old conditional statement with this new ```if else``` statement and see what happens to our graph:"
      ],
      "metadata": {
        "id": "_S-qeGZi7EQ8"
      }
    },
    {
      "cell_type": "code",
      "source": [
        "time = 0\n",
        "position = 0\n",
        "velocity = 1\n",
        "acceleration = 0\n",
        "end_time = 20\n",
        "time_increment = 0.1\n",
        "\n",
        "time_axis = [time]\n",
        "position_axis = [position]\n",
        "velocity_axis = [velocity]\n",
        "acceleration_axis = [acceleration]\n",
        "\n",
        "while time < end_time:\n",
        "  time = time + time_increment\n",
        "  position = position + velocity * time_increment\n",
        "  velocity = velocity + acceleration * time_increment\n",
        "\n",
        "  #replace the two lines under me (make sure the indentation is correct!)\n",
        "  if time >= 10:\n",
        "    acceleration = -0.05\n",
        "\n",
        "  time_axis = time_axis + [time]\n",
        "  position_axis = position_axis + [position]\n",
        "  velocity_axis = velocity_axis + [velocity]\n",
        "  acceleration_axis = acceleration_axis + [acceleration]\n",
        "\n",
        "plt.plot(time_axis, position_axis)\n",
        "plt.title(\"Position vs Time of someone who walked headfirst into a wall\")\n",
        "plt.ylabel(\"Position (m)\")\n",
        "plt.xlabel(\"Time (s)\")\n",
        "plt.show()"
      ],
      "metadata": {
        "id": "QypFCuUp9Ld4"
      },
      "execution_count": null,
      "outputs": []
    },
    {
      "cell_type": "markdown",
      "source": [
        "If you did it properly, it should look as if the person bounced off a wall and ended up exactly where they were to begin with. Just like before, we can see the whole story with a subplot:"
      ],
      "metadata": {
        "id": "zDfdykNg-fdy"
      }
    },
    {
      "cell_type": "code",
      "source": [
        "composite_plot, (graph_1, graph_2, graph_3) = plt.subplots(3)\n",
        "graph_1.plot(time_axis, position_axis)\n",
        "graph_1.set_title(\"Top to Bottom: Position/Velocity/Acceleration vs Time\")\n",
        "graph_2.plot(time_axis, velocity_axis)\n",
        "graph_3.plot(time_axis, acceleration_axis)"
      ],
      "metadata": {
        "id": "_PFESH-VGbZ1"
      },
      "execution_count": null,
      "outputs": []
    },
    {
      "cell_type": "markdown",
      "source": [
        "Which is more or less what we would expect, with just one point of instantaneous deceleration at 10 seconds.\n",
        "\n",
        "The examples above have all made use of changing the motion when we reach a certain point in *time* but we could just have easily triggered a change at a certain position or velocity. Regardless, the idea is that you can use conditional statements to model more complex problems."
      ],
      "metadata": {
        "id": "_wAnxl2WGmMF"
      }
    },
    {
      "cell_type": "markdown",
      "source": [
        "\n",
        "\n",
        "---\n",
        "\n",
        "**TASK 6**\n",
        "\n",
        "A ball is falling at a constant velocity of 15 metres per second from a height of 100 metres. Add a conditional statement to the code such that the ball deploys a parachute and decelerates by 1.8 metres per second per second once it reaches a height of 60 metres or less:"
      ],
      "metadata": {
        "id": "WhgSyLQYHgDt"
      }
    },
    {
      "cell_type": "code",
      "source": [
        "time = 0\n",
        "position = 100\n",
        "velocity = -15\n",
        "acceleration = 0\n",
        "end_time = 10\n",
        "time_increment = 0.1\n",
        "\n",
        "time_axis = [time]\n",
        "position_axis = [position]\n",
        "velocity_axis = [velocity]\n",
        "acceleration_axis = [acceleration]\n",
        "\n",
        "while time < end_time:\n",
        "  time = time + time_increment\n",
        "  position = position + velocity * time_increment\n",
        "  velocity = velocity + acceleration * time_increment\n",
        "\n",
        "  #add in your conditional statement below me (you should only need 2 lines)\n",
        "\n",
        "\n",
        "  time_axis = time_axis + [time]\n",
        "  position_axis = position_axis + [position]\n",
        "  velocity_axis = velocity_axis + [velocity]\n",
        "  acceleration_axis = acceleration_axis + [acceleration]\n",
        "\n",
        "plt.plot(time_axis, position_axis)\n",
        "plt.title(\"Position vs Time of a parachuting ball\")\n",
        "plt.ylabel(\"Position (m)\")\n",
        "plt.xlabel(\"Time (s)\")\n",
        "plt.show()"
      ],
      "metadata": {
        "id": "qtkr1aObIcwl"
      },
      "execution_count": null,
      "outputs": []
    },
    {
      "cell_type": "markdown",
      "source": [
        "Here's the code for the subplot for your convenience:"
      ],
      "metadata": {
        "id": "fNzt7PyeLo8x"
      }
    },
    {
      "cell_type": "code",
      "source": [
        "composite_plot, (graph_1, graph_2, graph_3) = plt.subplots(3)\n",
        "graph_1.plot(time_axis, position_axis)\n",
        "graph_1.set_title(\"Top to Bottom: Position/Velocity/Acceleration vs Time\")\n",
        "graph_2.plot(time_axis, velocity_axis)\n",
        "graph_3.plot(time_axis, acceleration_axis)"
      ],
      "metadata": {
        "id": "HBShSi79LfIz"
      },
      "execution_count": null,
      "outputs": []
    },
    {
      "cell_type": "markdown",
      "source": [
        "If done properly, the ball reaches the ground at about nine seconds with a velocity between -5 and 0 metres per second. Remember that in this example downwards velocity is negative, hence why our initial velocity is -15 metres per second."
      ],
      "metadata": {
        "id": "v_tFWqurL0fR"
      }
    }
  ]
}