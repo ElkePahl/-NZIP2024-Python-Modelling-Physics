{
  "nbformat": 4,
  "nbformat_minor": 0,
  "metadata": {
    "colab": {
      "provenance": []
    },
    "kernelspec": {
      "name": "python3",
      "display_name": "Python 3"
    },
    "language_info": {
      "name": "python"
    }
  },
  "cells": [
    {
      "cell_type": "markdown",
      "source": [
        "# Notebook 3: 2-Dimensional Kinematics\n",
        "\n",
        "This notebook is intended for use within Google Colab"
      ],
      "metadata": {
        "id": "dnSuirL7Ryba"
      }
    },
    {
      "cell_type": "markdown",
      "source": [
        "# Introduction\n",
        "\n",
        "Last time, we learnt how to apply your Python knowledge to solve 1-D kinematics problems. This time, we'll be expanding and adapting our techniques to 2-D motion."
      ],
      "metadata": {
        "id": "eMEtz3AjSK3M"
      }
    },
    {
      "cell_type": "markdown",
      "source": [
        "# Concept 1: X-Coordinate & Y-Coordinate"
      ],
      "metadata": {
        "id": "3UA8LKRtMQ1X"
      }
    },
    {
      "cell_type": "markdown",
      "source": [
        "\n",
        "\n",
        "In 1-D motion, we only had to concern ourselves with the object's position along a straight line. Now, we are letting our object move around in a *plane*.\n",
        "\n",
        "To keep track of where our object is, it is no longer sufficient to only have one variable tracking the ```position```. We need two variables: One to keep track of how far it is along the x-axis, and another to keep track of how far it is along the y-axis. The two variables together form a pair and tells us exactly where the object is in our plane.\n",
        "\n",
        "Let's start with some code that should be extremely familiar to you. First of all, let's import numpy and matplotlib's pyplot"
      ],
      "metadata": {
        "id": "SoIdmhMMSvD4"
      }
    },
    {
      "cell_type": "code",
      "source": [
        "import numpy as np\n",
        "import matplotlib.pyplot as plt"
      ],
      "metadata": {
        "id": "KSXYLEBuWQ5v"
      },
      "execution_count": null,
      "outputs": []
    },
    {
      "cell_type": "markdown",
      "source": [
        "The code below describes an object moving in the positive x direction by 1 metre per second:"
      ],
      "metadata": {
        "id": "XCSEPQZdVyhq"
      }
    },
    {
      "cell_type": "code",
      "source": [
        "#initializing our variables\n",
        "time = 0\n",
        "x_position = 0\n",
        "end_time = 10\n",
        "time_increment = 0.1\n",
        "x_velocity = 1\n",
        "\n",
        "time_axis = [time]\n",
        "x_axis = [x_position]\n",
        "\n",
        "#running the while loop - same as in notebook 2\n",
        "while time < end_time:\n",
        "  time = time + time_increment\n",
        "  x_position = x_position + x_velocity * time_increment\n",
        "  time_axis = time_axis + [time]\n",
        "  x_axis = x_axis + [x_position]\n",
        "\n",
        "plt.plot(time_axis, x_axis)\n",
        "plt.title(\"X Position vs Time\")\n",
        "plt.xlabel(\"Time (s)\")\n",
        "plt.ylabel(\"X Position (m)\")\n",
        "plt.show()"
      ],
      "metadata": {
        "id": "OlTmZ4GMVgfo"
      },
      "execution_count": null,
      "outputs": []
    },
    {
      "cell_type": "markdown",
      "source": [
        "This code describes an object at a y position of 5 metres accelerating in the negative y direction at 0.1 metres per second per second:"
      ],
      "metadata": {
        "id": "r-TtefX3Wk6G"
      }
    },
    {
      "cell_type": "code",
      "source": [
        "time = 0\n",
        "y_position = 5\n",
        "end_time = 10\n",
        "time_increment = 0.1\n",
        "y_velocity = 0\n",
        "y_acceleration = -0.1\n",
        "\n",
        "time_axis = [time]\n",
        "y_axis = [y_position]\n",
        "\n",
        "while time < end_time:\n",
        "  time = time + time_increment\n",
        "  y_position = y_position + y_velocity * time_increment\n",
        "  y_velocity = y_velocity + y_acceleration * time_increment\n",
        "  time_axis = time_axis + [time]\n",
        "  y_axis = y_axis + [y_position]\n",
        "\n",
        "plt.plot(time_axis, y_axis)\n",
        "plt.title(\"Y Position vs Time\")\n",
        "plt.xlabel(\"Time (s)\")\n",
        "plt.ylabel(\"Y Position (m)\")\n",
        "plt.ylim(0, 10)\n",
        "plt.show()"
      ],
      "metadata": {
        "id": "MwYtqtgzWumc"
      },
      "execution_count": null,
      "outputs": []
    },
    {
      "cell_type": "markdown",
      "source": [
        "What we've done now has created two lists: ```x_axis``` which tracked the object's x-coordinate at certain points in time and ```y_axis``` which has done the same for the object's y-coordinates across time. Now instead of plotting the coordinates on separate graphs as we've done so far, let's plot them against each other:"
      ],
      "metadata": {
        "id": "dI3RRi8eXOH-"
      }
    },
    {
      "cell_type": "code",
      "source": [
        "plt.plot(x_axis, y_axis)\n",
        "plt.title(\"Object's Path\")\n",
        "plt.xlabel(\"X Position (m)\")\n",
        "plt.ylabel(\"Y Position (m)\")\n",
        "plt.ylim(0, 10)\n",
        "plt.show()"
      ],
      "metadata": {
        "id": "Bysb3f_ZYwpK"
      },
      "execution_count": null,
      "outputs": []
    },
    {
      "cell_type": "markdown",
      "source": [
        "At first glance, the graph appears identical to the one tracking y position vs time. However, it is entirely different. We can no longer read off the exact position at any given time, after all, time is no longer an axis we plotted on the graph.\n",
        "\n",
        "Instead, we have plotted the *entire path* that the object's motion has traced out in space. The graph above telling us that the object travelled from its initial coordinates of (0, 5): with an x position of 0m, y position of 5m, to its final coordinates of (10, 0): an x position of approximately 10m and a y position of 0m.\n",
        "\n",
        "I should clarify that we only know that the initial coordinates were (0, 5) because we coded this ourselves. Given only the graph above, the object could easily have been moving from (10, 0) to (0, 5) instead."
      ],
      "metadata": {
        "id": "8L6QxVqoZdGM"
      }
    },
    {
      "cell_type": "markdown",
      "source": [
        "\n",
        "\n",
        "---\n",
        "\n",
        "**TASK 1**\n",
        "\n",
        "Complete the while loop in the code below such that object's path is correctly plotted:"
      ],
      "metadata": {
        "id": "pUWGZpCqdJkk"
      }
    },
    {
      "cell_type": "code",
      "source": [
        "x_position = 0\n",
        "y_position = 0\n",
        "\n",
        "x_velocity = 1\n",
        "y_velocity = 5\n",
        "\n",
        "y_acceleration = -0.25\n",
        "\n",
        "time = 0\n",
        "end_time = 40\n",
        "time_increment = 0.1\n",
        "\n",
        "time_axis = [time]\n",
        "x_axis = [x_position]\n",
        "y_axis = [y_position]\n",
        "\n",
        "#the while loop below has had a chunk taken out on every line!\n",
        "while time < :\n",
        "   = time + time_increment\n",
        "  x_position =  + x_velocity * time_increment\n",
        "  y_position = y_position +  * time_increment\n",
        "  y_velocity = y_velocity + y_acceleration *\n",
        "  time_axis =  + [time]\n",
        "  x_axis = x_axis +\n",
        "  y_axis = y_axis +\n",
        "\n",
        "plt.plot(x_axis, y_axis)\n",
        "plt.title(\"Object's Path\")\n",
        "plt.xlabel(\"X Position (m)\")\n",
        "plt.ylabel(\"Y Position (m)\")\n",
        "plt.show()"
      ],
      "metadata": {
        "id": "vgiJQrmGhWgX"
      },
      "execution_count": null,
      "outputs": []
    },
    {
      "cell_type": "markdown",
      "source": [
        "If done correctly, the object's path should look like a parabola. A parabolic path should be very familiar to you since objects thrown into the air will draw this shape out in space as it falls back down."
      ],
      "metadata": {
        "id": "ozSBrhWWimmU"
      }
    },
    {
      "cell_type": "markdown",
      "source": [
        "# Concept 2: Projectile Motion"
      ],
      "metadata": {
        "id": "slDDfD2oNWfJ"
      }
    },
    {
      "cell_type": "markdown",
      "source": [
        "\n",
        "\n",
        "In fact, the problem ubiquitous within 2-D kinematics is projectile motion - or how an object moves when it's shot into the air. As you saw previously, we already have all the tools required to model such a problem, it is simply a matter of translating the problem into code.\n",
        "\n",
        "The conventions we use for projectile motion are that:\n",
        "\n",
        "*   The y position represents height.\n",
        "*   The x position represents distance, and we begin at x = 0m.\n",
        "*   The y acceleration represents gravity, and so can only be negative.\n",
        "\n",
        "Let me show you an example. For everyone who has ever thought about what would happen if you fired a gun straight into the air, the code below models a bullet being shot up at a sharp angle on earth:"
      ],
      "metadata": {
        "id": "Ag-YWv8Dfldy"
      }
    },
    {
      "cell_type": "code",
      "source": [
        "x_position = 0\n",
        "y_position = 0\n",
        "\n",
        "x_velocity = 0.1\n",
        "y_velocity = 300\n",
        "\n",
        "y_acceleration = -9.81\n",
        "\n",
        "time = 0\n",
        "end_time = 61.2\n",
        "time_increment = 0.1\n",
        "\n",
        "time_axis = [time]\n",
        "x_axis = [x_position]\n",
        "y_axis = [y_position]\n",
        "\n",
        "while time < end_time:\n",
        "  time = time + time_increment\n",
        "  x_position = x_position + x_velocity * time_increment\n",
        "  y_position = y_position + y_velocity * time_increment\n",
        "  y_velocity = y_velocity + y_acceleration * time_increment\n",
        "  time_axis = time_axis + [time]\n",
        "  x_axis = x_axis + [x_position]\n",
        "  y_axis = y_axis + [y_position]\n",
        "\n",
        "plt.plot(x_axis, y_axis)\n",
        "plt.title(\"Bullet's Path\")\n",
        "plt.xlabel(\"Distance (m)\")\n",
        "plt.ylabel(\"Height (m)\")\n",
        "plt.show()"
      ],
      "metadata": {
        "id": "lsIsXCc95w4N"
      },
      "execution_count": null,
      "outputs": []
    },
    {
      "cell_type": "markdown",
      "source": [
        "From this code, we can identify several features:\n",
        "\n",
        "\n",
        "\n",
        "*   The bullet's initial y velocity is 300 metres per second, very reasonable if it's shot up nearly straight into the air.\n",
        "*   The bullet experiences a gravitational acceleration of 9.81 metres per second per second, accurate to Earth.\n",
        "\n",
        "The model tells us that the bullet would reach a max height of nearly 5000 metres and land about 6 metres away (assuming that there's flat ground around the starting position).\n",
        "\n",
        "What would be the bullets max height if we tried this experiment on the moon? Given that gravity on the moon is 1.62 metres per second squared, try modelling it below:\n",
        "\n"
      ],
      "metadata": {
        "id": "k4iW2LYD9b4y"
      }
    },
    {
      "cell_type": "code",
      "source": [
        "x_position = 0\n",
        "y_position = 0\n",
        "\n",
        "x_velocity = 0.1\n",
        "y_velocity = 300\n",
        "\n",
        "y_acceleration = -9.81\n",
        "\n",
        "time = 0\n",
        "end_time = 61.2\n",
        "time_increment = 0.1\n",
        "\n",
        "time_axis = [time]\n",
        "x_axis = [x_position]\n",
        "y_axis = [y_position]\n",
        "\n",
        "while time < end_time:\n",
        "  time = time + time_increment\n",
        "  x_position = x_position + x_velocity * time_increment\n",
        "  y_position = y_position + y_velocity * time_increment\n",
        "  y_velocity = y_velocity + y_acceleration * time_increment\n",
        "  time_axis = time_axis + [time]\n",
        "  x_axis = x_axis + [x_position]\n",
        "  y_axis = y_axis + [y_position]\n",
        "\n",
        "plt.plot(x_axis, y_axis)\n",
        "plt.title(\"Bullet's Path on the Moon\")\n",
        "plt.xlabel(\"Distance (m)\")\n",
        "plt.ylabel(\"Height (m)\")\n",
        "plt.show()"
      ],
      "metadata": {
        "id": "Vy16JBdOA9MX"
      },
      "execution_count": null,
      "outputs": []
    },
    {
      "cell_type": "markdown",
      "source": [
        "\n",
        "\n",
        "---\n",
        "\n",
        "**TASK 2**\n",
        "\n",
        "You found the max height of the bullet shot straight up on the moon. Find how far away it lands from the starting position. To do this, you should be using the model you used to find the max height the bullet reaches on the moon; copy your model into the code box below to do so:"
      ],
      "metadata": {
        "id": "SjrFUVrhCa8L"
      }
    },
    {
      "cell_type": "code",
      "source": [],
      "metadata": {
        "id": "HAw2BkVqEGf8"
      },
      "execution_count": null,
      "outputs": []
    },
    {
      "cell_type": "markdown",
      "source": [
        "# Concept 3: Alternative Stopping Points"
      ],
      "metadata": {
        "id": "M_NL_RlKNcdl"
      }
    },
    {
      "cell_type": "markdown",
      "source": [
        "\n",
        "\n",
        "As you may have noticed, it can be difficult to quickly pick out the solution from your model, finding it usually requires a fiddling with the ```end_time``` until the plot is easy to read. We can do away with this annoyance if we have more control over when the object's motion will stop.\n",
        "\n",
        "Recall that we've always defined an ```end_time``` and stopped our while loop once our time has gone past it, like this:\n",
        "\n",
        "```\n",
        "while time < end_time:\n",
        "  ...\n",
        "```\n",
        "\n",
        "If we want to stop our motion earlier than that, we simply change what our while loop checks to be ```TRUE```. In the context of projectile motion, we usually want to stop the motion once the object reaches the ground. For instance, if the ground is at a height of 0m:\n",
        "\n",
        "```\n",
        "while y_position >= 0:\n",
        "  ...\n",
        "```\n",
        "\n",
        "Or if we wanted to, we could use a combination of both:\n",
        "\n",
        "```\n",
        "while (time < end_time) & (y_position >= 0):\n",
        "  ...\n",
        "```\n",
        "Controlling when the motion stops like this helps us ignore motion that doesn't make sense (like objects falling through the ground) or highlight important parts of our motion (like when the object reaches the destination we want). Taking the example of a bullet shot into the air on Earth, we can now add ```y_position >= 0``` to the condition in our while loop:"
      ],
      "metadata": {
        "id": "8FsyMi6AfcEQ"
      }
    },
    {
      "cell_type": "code",
      "source": [
        "x_position = 0\n",
        "y_position = 0\n",
        "\n",
        "x_velocity = 0.1\n",
        "y_velocity = 300\n",
        "\n",
        "y_acceleration = -9.81\n",
        "\n",
        "time = 0\n",
        "end_time = 100\n",
        "time_increment = 0.1\n",
        "\n",
        "time_axis = [time]\n",
        "x_axis = [x_position]\n",
        "y_axis = [y_position]\n",
        "\n",
        "#the condition has been changed to\n",
        "while (time < end_time) & (y_position >= 0):\n",
        "  time = time + time_increment\n",
        "  x_position = x_position + x_velocity * time_increment\n",
        "  y_position = y_position + y_velocity * time_increment\n",
        "  y_velocity = y_velocity + y_acceleration * time_increment\n",
        "  time_axis = time_axis + [time]\n",
        "  x_axis = x_axis + [x_position]\n",
        "  y_axis = y_axis + [y_position]\n",
        "\n",
        "plt.plot(x_axis, y_axis)\n",
        "plt.title(\"Bullet's Path\")\n",
        "plt.xlabel(\"Distance (m)\")\n",
        "plt.ylabel(\"Height (m)\")\n",
        "plt.show()"
      ],
      "metadata": {
        "id": "BfflsXzZnnUc"
      },
      "execution_count": null,
      "outputs": []
    },
    {
      "cell_type": "markdown",
      "source": [
        "Try changing the ```end_time``` to some ridiculous number like ten million. The object hits the ground far earlier than ten million seconds, so the while loop stops before the plot gets out of hand. It's still good to make your ```end_time``` a reasonable number though, that way the loop is allowed to end if the object never reaches your desired y position."
      ],
      "metadata": {
        "id": "KGVeghA5p3B0"
      }
    },
    {
      "cell_type": "markdown",
      "source": [
        "\n",
        "\n",
        "---\n",
        "**TASK 3**\n",
        "\n",
        "The code below models the path of a rocket-powered weather balloon. Earth's stratosphere begins at about 15 kilometres above the Earth's surface. Edit the while loop's condition such that you are able to determine whether the balloon reaches the stratosphere. If it does, at what distance does the balloon reach the stratosphere? If it doesn't, at what distance does it land from its starting position?"
      ],
      "metadata": {
        "id": "tLE2nJealkVc"
      }
    },
    {
      "cell_type": "code",
      "source": [
        "x_position = 0\n",
        "y_position = 0\n",
        "\n",
        "x_velocity = 0.1\n",
        "y_velocity = 600\n",
        "\n",
        "y_acceleration = -9.81\n",
        "\n",
        "time = 0\n",
        "end_time = 1000\n",
        "time_increment = 0.1\n",
        "\n",
        "time_axis = [time]\n",
        "x_axis = [x_position]\n",
        "y_axis = [y_position]\n",
        "\n",
        "while (time < end_time) & (x_position <= 2):\n",
        "  time = time + time_increment\n",
        "  x_position = x_position + x_velocity * time_increment\n",
        "  y_position = y_position + y_velocity * time_increment\n",
        "  y_velocity = y_velocity + y_acceleration * time_increment\n",
        "  time_axis = time_axis + [time]\n",
        "  x_axis = x_axis + [x_position]\n",
        "  y_axis = y_axis + [y_position]\n",
        "\n",
        "plt.plot(x_axis, y_axis)\n",
        "plt.title(\"Balloon's Path\")\n",
        "plt.xlabel(\"Distance (m)\")\n",
        "plt.ylabel(\"Height (m)\")\n",
        "plt.show()"
      ],
      "metadata": {
        "id": "neQUj09_nbQq"
      },
      "execution_count": null,
      "outputs": []
    },
    {
      "cell_type": "markdown",
      "source": [
        "# Concept 4: Fixed Muzzle Velocity & Widgets"
      ],
      "metadata": {
        "id": "aQif0SdGNy2S"
      }
    },
    {
      "cell_type": "markdown",
      "source": [
        "\n",
        "\n",
        "So far we have been using arbitrary values of ```x_velocity``` and ```y_velocity```, but this isn't actually that useful in real life, since most problems call for an object shooting off at a given total velocity, varying the angle at which it shoots off instead.\n",
        "\n",
        "First, let's define our total velocity as well as the angle at which we'll be launching our object:"
      ],
      "metadata": {
        "id": "lMXKuwSygHXA"
      }
    },
    {
      "cell_type": "code",
      "source": [
        "total_velocity = 300\n",
        "angle = np.pi/4"
      ],
      "metadata": {
        "id": "ptWHXMNSFUW9"
      },
      "execution_count": null,
      "outputs": []
    },
    {
      "cell_type": "markdown",
      "source": [
        "Keep in mind that we'll be working in radians here. Remember that we use this formula to convert between radians and degrees:\n",
        "$$degrees/360 *2π$$\n",
        "Now, recall that with the angle we're launching the object, we can find the object's x and y velocities from the total using trigonometric functions.\n",
        "\n",
        "![velocity components.png](data:image/png;base64,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)\n",
        "\n",
        "The x velocity here would be the total velocity multiplied by cosine of the angle. For the y velocity, it would be the total velocity multiplied by the sine of the angle. Let's put that into code:"
      ],
      "metadata": {
        "id": "BjGplv5wFeHd"
      }
    },
    {
      "cell_type": "code",
      "source": [
        "x_velocity = total_velocity * np.cos(angle)\n",
        "y_velocity = total_velocity * np.sin(angle)"
      ],
      "metadata": {
        "id": "eEZvGCHWHAXB"
      },
      "execution_count": null,
      "outputs": []
    },
    {
      "cell_type": "markdown",
      "source": [
        "At this point, the rest of the code is the same, we just need to define our starting positions, y acceleration and run our while loop:"
      ],
      "metadata": {
        "id": "pwfC2526HKAW"
      }
    },
    {
      "cell_type": "code",
      "source": [
        "x_position = 0\n",
        "y_position = 0\n",
        "\n",
        "y_acceleration = -9.81\n",
        "\n",
        "time = 0\n",
        "end_time = 1000\n",
        "time_increment = 0.1\n",
        "\n",
        "time_axis = [time]\n",
        "x_axis = [x_position]\n",
        "y_axis = [y_position]\n",
        "\n",
        "while (time < end_time) & (y_position >= 0):\n",
        "  time = time + time_increment\n",
        "  x_position = x_position + x_velocity * time_increment\n",
        "  y_position = y_position + y_velocity * time_increment\n",
        "  y_velocity = y_velocity + y_acceleration * time_increment\n",
        "  time_axis = time_axis + [time]\n",
        "  x_axis = x_axis + [x_position]\n",
        "  y_axis = y_axis + [y_position]\n",
        "\n",
        "plt.plot(x_axis, y_axis)\n",
        "plt.title(\"Object's Path\")\n",
        "plt.xlabel(\"Distance (m)\")\n",
        "plt.ylabel(\"Height (m)\")\n",
        "plt.show()"
      ],
      "metadata": {
        "id": "kbQXBW3uHa3W"
      },
      "execution_count": null,
      "outputs": []
    },
    {
      "cell_type": "markdown",
      "source": [
        "Here's a copy of the full code from above, try varying the angle and see what happens to the object's path when:\n",
        "\n",
        "\n",
        "\n",
        "1.   The angle is π/2 (90°)\n",
        "2.   The angle is greater than π/2 but less than π (180°)\n",
        "3. The angle is greater than π but less than 2π (360°)\n",
        "\n"
      ],
      "metadata": {
        "id": "CfOFsz3zH7Y3"
      }
    },
    {
      "cell_type": "code",
      "source": [
        "total_velocity = 300\n",
        "angle =\n",
        "x_velocity = total_velocity * np.cos(angle)\n",
        "y_velocity = total_velocity * np.sin(angle)\n",
        "\n",
        "x_position = 0\n",
        "y_position = 0\n",
        "\n",
        "y_acceleration = -9.81\n",
        "\n",
        "time = 0\n",
        "end_time = 1000\n",
        "time_increment = 0.1\n",
        "\n",
        "time_axis = [time]\n",
        "x_axis = [x_position]\n",
        "y_axis = [y_position]\n",
        "\n",
        "while (time < end_time) & (y_position >= 0):\n",
        "  time = time + time_increment\n",
        "  x_position = x_position + x_velocity * time_increment\n",
        "  y_position = y_position + y_velocity * time_increment\n",
        "  y_velocity = y_velocity + y_acceleration * time_increment\n",
        "  time_axis = time_axis + [time]\n",
        "  x_axis = x_axis + [x_position]\n",
        "  y_axis = y_axis + [y_position]\n",
        "\n",
        "plt.plot(x_axis, y_axis)\n",
        "plt.title(\"Object's Path\")\n",
        "plt.xlabel(\"Distance (m)\")\n",
        "plt.ylabel(\"Height (m)\")\n",
        "plt.show()"
      ],
      "metadata": {
        "id": "S7krvGUsIv0o"
      },
      "execution_count": null,
      "outputs": []
    },
    {
      "cell_type": "markdown",
      "source": [
        "Do the plot all behave as you would expect? As you can see, there isn't actually much point in plotting trajectories with an angle of π/2 (90°) or greater.\n",
        "\n",
        "Now that we have a fixed muzzle velocity, it begs the question: \"What angle should I launch my projectile such that it travels the furthest distance?\" Well, a quick plot of a few trajectories with different angles gives us..."
      ],
      "metadata": {
        "id": "L_sVRjt0JKoH"
      }
    },
    {
      "cell_type": "code",
      "source": [
        "total_velocity = 300\n",
        "#creating a list of the angles we want to try\n",
        "angles = [75/360*2*np.pi, 60/360*2*np.pi, 45/360*2*np.pi, 30/360*2*np.pi, 15/360*2*np.pi]\n",
        "\n",
        "#using a for loop (from notebook 1, extension 2) to plot the resulting trajectories form each angle\n",
        "for angle in angles:\n",
        "  x_velocity = total_velocity * np.cos(angle)\n",
        "  y_velocity = total_velocity * np.sin(angle)\n",
        "  x_position = 0\n",
        "  y_position = 0\n",
        "\n",
        "  y_acceleration = -9.81\n",
        "\n",
        "  time = 0\n",
        "  end_time = 1000\n",
        "  time_increment = 0.1\n",
        "\n",
        "  time_axis = [time]\n",
        "  x_axis = [x_position]\n",
        "  y_axis = [y_position]\n",
        "\n",
        "  while (time < end_time) & (y_position >= 0):\n",
        "    time = time + time_increment\n",
        "    x_position = x_position + x_velocity * time_increment\n",
        "    y_position = y_position + y_velocity * time_increment\n",
        "    y_velocity = y_velocity + y_acceleration * time_increment\n",
        "    time_axis = time_axis + [time]\n",
        "    x_axis = x_axis + [x_position]\n",
        "    y_axis = y_axis + [y_position]\n",
        "\n",
        "  #note how the plot statement is within the for loop so that each trajectory is recorded before we move on to the next angle\n",
        "  plt.plot(x_axis, y_axis)\n",
        "\n",
        "#we have the rest of the plotting statements outside the for loop so we can see the final result\n",
        "plt.title(\"Object's Paths\")\n",
        "plt.xlabel(\"Distance (m)\")\n",
        "plt.ylabel(\"Height (m)\")\n",
        "plt.show()"
      ],
      "metadata": {
        "id": "FHbENC7dsFa0"
      },
      "execution_count": null,
      "outputs": []
    },
    {
      "cell_type": "markdown",
      "source": [
        "...Where we can see that it appears the object will go further the closer the angle is to 45°.\n",
        "\n",
        "So instead, let's use a new library to help us out. We'll be importing in widgets (sliders) so that we can easily change the angle of our motion and see the resulting path:"
      ],
      "metadata": {
        "id": "D48M66tkNwy6"
      }
    },
    {
      "cell_type": "code",
      "source": [
        "from ipywidgets import interact, interactive\n",
        "import ipywidgets as widgets"
      ],
      "metadata": {
        "id": "LJsb2RQCQHCU"
      },
      "execution_count": null,
      "outputs": []
    },
    {
      "cell_type": "markdown",
      "source": [
        "Now we just turn our model into a function and let the slider change the value of the ```angle``` variable.\n",
        "\n",
        "There isn't a need to understand the entirety of the code below, just know that we are producing the exact same plots as we've always been. The only difference is that we can now adjust the angle in real time."
      ],
      "metadata": {
        "id": "XrPPOoilT0vA"
      }
    },
    {
      "cell_type": "code",
      "source": [
        "#Putting the code from before into a function (from notebook 1, extension 1)\n",
        "def model_300m_per_s_projectile(angle):\n",
        "  total_velocity = 300\n",
        "  x_velocity = total_velocity * np.cos(angle/360*2*np.pi)\n",
        "  y_velocity = total_velocity * np.sin(angle/360*2*np.pi)\n",
        "\n",
        "  x_position = 0\n",
        "  y_position = 0\n",
        "\n",
        "  y_acceleration = -9.81\n",
        "\n",
        "  time = 0\n",
        "  end_time = 1000\n",
        "  time_increment = 0.1\n",
        "\n",
        "  time_axis = [time]\n",
        "  x_axis = [x_position]\n",
        "  y_axis = [y_position]\n",
        "\n",
        "  while (time < end_time) & (y_position >= 0):\n",
        "    time = time + time_increment\n",
        "    x_position = x_position + x_velocity * time_increment\n",
        "    y_position = y_position + y_velocity * time_increment\n",
        "    y_velocity = y_velocity + y_acceleration * time_increment\n",
        "    time_axis = time_axis + [time]\n",
        "    x_axis = x_axis + [x_position]\n",
        "    y_axis = y_axis + [y_position]\n",
        "\n",
        "  plt.plot(x_axis, y_axis)\n",
        "  plt.title(\"Object's Path\")\n",
        "  plt.xlabel(\"Distance (m)\")\n",
        "  plt.ylabel(\"Height (m)\")\n",
        "  plt.ylim(0, 5000)\n",
        "  plt.xlim(0, 10000)\n",
        "  plt.show()\n",
        "\n",
        "interactive_plot = interactive(model_300m_per_s_projectile, angle = (0, 90, 0.5))\n",
        "output = interactive_plot.children[-1]\n",
        "interactive_plot"
      ],
      "metadata": {
        "id": "hgAjzfWfQOFm"
      },
      "execution_count": null,
      "outputs": []
    },
    {
      "cell_type": "markdown",
      "source": [
        "Can you pick out what angle launches the object the furthest?"
      ],
      "metadata": {
        "id": "d7t8Jux2U536"
      }
    },
    {
      "cell_type": "markdown",
      "source": [
        "\n",
        "\n",
        "---\n",
        "\n",
        "**TASK 4**\n",
        "\n",
        "Complete the initial conditions such that the code below models a rock being thrown off a cliff of 10 metres on Earth at:\n",
        "\n",
        "\n",
        "\n",
        "*   An angle of π/6 radians (30°)\n",
        "*   A velocity of 5 metres per second\n",
        "\n",
        "\n",
        "\n",
        "\n"
      ],
      "metadata": {
        "id": "2koplvLlVWS_"
      }
    },
    {
      "cell_type": "code",
      "source": [
        "total_velocity =\n",
        "angle =\n",
        "x_velocity =\n",
        "y_velocity =\n",
        "\n",
        "x_position =\n",
        "y_position =\n",
        "\n",
        "y_acceleration =\n",
        "\n",
        "time = 0\n",
        "end_time = 1000\n",
        "time_increment = 0.1\n",
        "\n",
        "time_axis = [time]\n",
        "x_axis = [x_position]\n",
        "y_axis = [y_position]\n",
        "\n",
        "while (time < end_time) & (y_position >= 0):\n",
        "  time = time + time_increment\n",
        "  x_position = x_position + x_velocity * time_increment\n",
        "  y_position = y_position + y_velocity * time_increment\n",
        "  y_velocity = y_velocity + y_acceleration * time_increment\n",
        "  time_axis = time_axis + [time]\n",
        "  x_axis = x_axis + [x_position]\n",
        "  y_axis = y_axis + [y_position]\n",
        "\n",
        "plt.plot(x_axis, y_axis)\n",
        "plt.title(\"Rock's Path\")\n",
        "plt.xlabel(\"Distance (m)\")\n",
        "plt.ylabel(\"Height (m)\")\n",
        "plt.show()"
      ],
      "metadata": {
        "id": "S0PEL2uzW-cg"
      },
      "execution_count": null,
      "outputs": []
    },
    {
      "cell_type": "markdown",
      "source": [
        "# Extension Activity 1: Two-Axis Acceleration"
      ],
      "metadata": {
        "id": "IVMr_ndvP0ko"
      }
    },
    {
      "cell_type": "markdown",
      "source": [
        "\n",
        "\n",
        "So far we have been exclusively working with acceleration in the y direction in order to simulate gravity. We can implement the use of an acceleration in the x direction too, and simulate the effect of drag.\n",
        "\n",
        "We could just define a constant x acceleration as our drag and call it a day, but drag in real life is proportional to the velocity of the object squared. If we wanted to model drag accurately, we'll need code this behaviour into the x acceleration.\n",
        "\n",
        "Since we know that drag is proportional to the velocity squared, we have a starting point. First, let's define our other initial conditions:"
      ],
      "metadata": {
        "id": "5wU6iieJgZ60"
      }
    },
    {
      "cell_type": "code",
      "source": [
        "total_velocity = 300\n",
        "angle = np.pi/4\n",
        "x_velocity = total_velocity * np.cos(angle)\n",
        "y_velocity = total_velocity * np.sin(angle)\n",
        "\n",
        "x_position = 0\n",
        "y_position = 0\n",
        "\n",
        "y_acceleration = -9.81"
      ],
      "metadata": {
        "id": "lU3Je-T3mfU6"
      },
      "execution_count": null,
      "outputs": []
    },
    {
      "cell_type": "markdown",
      "source": [
        "Then, we can add in the fact that we know the accleration due to drag will be negative, and is a product of some coefficient and the velocity squared:"
      ],
      "metadata": {
        "id": "X23LbbbbmhRu"
      }
    },
    {
      "cell_type": "code",
      "source": [
        "drag_coefficient = 0.0003\n",
        "x_acceleration = -drag_coefficient * (x_velocity **2)"
      ],
      "metadata": {
        "id": "4NgxaZMjmB_W"
      },
      "execution_count": null,
      "outputs": []
    },
    {
      "cell_type": "markdown",
      "source": [
        "Next, we must alter the while loop so that the ```x_acceleration``` is updated according to the ```x_velocity```. While we previously updated our values with this format:\n",
        "\n",
        "```\n",
        "variable = variable + change_in_value_over_time * time_increment\n",
        "```\n",
        "This time, our x_acceleration isn't directly changing with time since we don't have an explicit \"jerk\" - a change in acceleration over time. Instead, our x acceleration is always ```-drag_coefficient * x_velocity **2```. We just need to put that in the while loop so it's kept accurate to the most recent ```x_velocity```.\n",
        "\n",
        "Of course, now that we have an x acceleration, we need to update our x velocity as per usual. Therefore, our full while loop along with the plot looks like this:"
      ],
      "metadata": {
        "id": "iDS0Z62hm_V5"
      }
    },
    {
      "cell_type": "code",
      "source": [
        "time = 0\n",
        "end_time = 1000\n",
        "time_increment = 0.1\n",
        "\n",
        "time_axis = [time]\n",
        "x_axis = [x_position]\n",
        "y_axis = [y_position]\n",
        "\n",
        "while (time < end_time) & (y_position >= 0):\n",
        "  time = time + time_increment\n",
        "  x_position = x_position + x_velocity * time_increment\n",
        "  y_position = y_position + y_velocity * time_increment\n",
        "  x_velocity = x_velocity + x_acceleration * time_increment\n",
        "  y_velocity = y_velocity + y_acceleration * time_increment\n",
        "  x_acceleration = -drag_coefficient * (x_velocity ** 2)\n",
        "  time_axis = time_axis + [time]\n",
        "  x_axis = x_axis + [x_position]\n",
        "  y_axis = y_axis + [y_position]\n",
        "\n",
        "plt.plot(x_axis, y_axis)\n",
        "plt.title(\"Object's Path\")\n",
        "plt.xlabel(\"Distance (m)\")\n",
        "plt.ylabel(\"Height (m)\")\n",
        "plt.show()"
      ],
      "metadata": {
        "id": "dJs_CTczmWsU"
      },
      "execution_count": null,
      "outputs": []
    },
    {
      "cell_type": "markdown",
      "source": [
        "Of course, you could add drag to the y direction as well, you would just need to add the effect of drag to the effect of gravity that we already have."
      ],
      "metadata": {
        "id": "5tqb2OorrSCt"
      }
    },
    {
      "cell_type": "markdown",
      "source": [
        "\n",
        "\n",
        "---\n",
        "\n",
        "**TASK 5**\n",
        "\n",
        "You and your friends have chosen a particularly windy day to play cricket. The code below simulates the path of a cricket ball as it flies through the air. Complete the code below such that in addition to the drag force, it models the ball blown back at 3 metres per second per second. How far away does the ball land? If the wind was blowing the ball back 15 metres per second squared instead, how far does the ball land?"
      ],
      "metadata": {
        "id": "jgbn8HLSsYt6"
      }
    },
    {
      "cell_type": "code",
      "source": [
        "total_velocity = 20\n",
        "angle = np.pi/4\n",
        "x_velocity = total_velocity * np.cos(angle)\n",
        "y_velocity = total_velocity * np.sin(angle)\n",
        "\n",
        "x_position = 0\n",
        "y_position = 0\n",
        "\n",
        "y_acceleration = -9.81\n",
        "drag_coefficient = 0.03\n",
        "x_acceleration = -drag_coefficient * (x_velocity **2)\n",
        "\n",
        "time = 0\n",
        "end_time = 1000\n",
        "time_increment = 0.1\n",
        "\n",
        "time_axis = [time]\n",
        "x_axis = [x_position]\n",
        "y_axis = [y_position]\n",
        "\n",
        "while (time < end_time) & (y_position >= 0):\n",
        "  time = time + time_increment\n",
        "  x_position = x_position + x_velocity * time_increment\n",
        "  y_position = y_position + y_velocity * time_increment\n",
        "  x_velocity = x_velocity + x_acceleration * time_increment\n",
        "  y_velocity = y_velocity + y_acceleration * time_increment\n",
        "  x_acceleration = -drag_coefficient * (x_velocity ** 2)\n",
        "  time_axis = time_axis + [time]\n",
        "  x_axis = x_axis + [x_position]\n",
        "  y_axis = y_axis + [y_position]\n",
        "\n",
        "plt.plot(x_axis, y_axis)\n",
        "plt.title(\"Ball's Path\")\n",
        "plt.xlabel(\"Distance (m)\")\n",
        "plt.ylabel(\"Height (m)\")\n",
        "plt.show()"
      ],
      "metadata": {
        "id": "INeHDM1BuQVc"
      },
      "execution_count": null,
      "outputs": []
    },
    {
      "cell_type": "markdown",
      "source": [
        "When the wind is fairly calm, the ball should almost reach a distance of 30 metres. When the wind is violent, the ball should be blown over 20 metres behind the batter.\n",
        "\n",
        "There is an issue with the model when the wind is blowing the ball back at -15 metres per second per second. Can you identify what it is?\n",
        "\n",
        "Hint: What is the sign of the horizontal acceleration due to drag when the horizontal velocity is negative? What should the sign be in reality?\n",
        "\n",
        "We've already learnt a coding technique capable of dealing with this issue: conditional statements. You will see this implemented in Extension Activity 2."
      ],
      "metadata": {
        "id": "bT8ZeehJvWwA"
      }
    },
    {
      "cell_type": "markdown",
      "source": [
        "# Extension Activity 2: Bouncing Projectile\n",
        "\n",
        "Congratulations on making it to the very last activity of this set of notebooks! In celebration, we'll be showing off everything we've learnt to model a projectile that can bounce.\n",
        "\n",
        "First, lets set up our initial conditions. We define our total velocity, our angle that we're launching our prejectile, and we get our separate x and y velocities from that:"
      ],
      "metadata": {
        "id": "m5RL6_eBmBA6"
      }
    },
    {
      "cell_type": "code",
      "source": [
        "total_velocity = 100\n",
        "angle = np.pi/4\n",
        "x_velocity = total_velocity * np.cos(angle)\n",
        "y_velocity = total_velocity * np.sin(angle)\n"
      ],
      "metadata": {
        "id": "iFaZqeuNzkMs"
      },
      "execution_count": null,
      "outputs": []
    },
    {
      "cell_type": "markdown",
      "source": [
        "Next, we can define where we'll launch our projectile. Let's just shoot it off at the ground:"
      ],
      "metadata": {
        "id": "oH2qqhb80IxN"
      }
    },
    {
      "cell_type": "code",
      "source": [
        "x_position = 0\n",
        "y_position = 0"
      ],
      "metadata": {
        "id": "gZYK2F2q0Xds"
      },
      "execution_count": null,
      "outputs": []
    },
    {
      "cell_type": "markdown",
      "source": [
        "Now, we need to consider what kind of acceleration is acting on our projectile. Let's apply drag to both x and y directions, and gravity to the y direction:"
      ],
      "metadata": {
        "id": "V2aFMubE0Yol"
      }
    },
    {
      "cell_type": "code",
      "source": [
        "drag_coefficient = 0.03\n",
        "y_acceleration = -9.81 -drag_coefficient * (y_velocity **2)\n",
        "x_acceleration = -drag_coefficient * (x_velocity **2)"
      ],
      "metadata": {
        "id": "P0WLIFv-0vq-"
      },
      "execution_count": null,
      "outputs": []
    },
    {
      "cell_type": "markdown",
      "source": [
        "Then we can create our lists that we'll store our values in, and define our time increment:"
      ],
      "metadata": {
        "id": "LCEw-Dh-05JP"
      }
    },
    {
      "cell_type": "code",
      "source": [
        "time = 0\n",
        "end_time = 1000\n",
        "time_increment = 0.01\n",
        "\n",
        "time_axis = [time]\n",
        "x_axis = [x_position]\n",
        "y_axis = [y_position]"
      ],
      "metadata": {
        "id": "hzs1zu8T04yX"
      },
      "execution_count": null,
      "outputs": []
    },
    {
      "cell_type": "markdown",
      "source": [
        "The next step is to build our while loop. Since our projectile is bouncing, we no longer want to stop the motion when the projectile reaches the ground. Instead, let's stop our motion when the projectile has bounced a certain number of times, or if it gets launched too far.  We'll need to define a variable that tracks the number of bounces and increment it later:\n",
        "\n",
        "```\n",
        "bounces = 0\n",
        "```\n",
        "\n",
        "And the first part of the loop will look like this:\n",
        "\n",
        "```\n",
        "while (time < end_time) & (bounces < 30) & (x_position < 30000):\n",
        "```\n",
        "\n",
        "Within that while loop, we need to update our current time, position and velocity:\n",
        "\n",
        "```\n",
        "  time = time + time_increment\n",
        "  x_position = x_position + x_velocity * time_increment\n",
        "  y_position = y_position + y_velocity * time_increment\n",
        "  x_velocity = x_velocity + x_acceleration * time_increment\n",
        "  y_velocity = y_velocity + y_acceleration * time_increment\n",
        "\n",
        "```\n",
        "We'll also add in the bouncing behaviour here. We want the projectile to bounce when it hits the ground. We'll know it does this when its y position and y velocity are both negative. Whenever it bounces, we want it to lose some y velocity (to model energy loss), flip the direction of the y velocity, and increment the number of bounces:\n",
        "\n",
        "```\n",
        "  if (y_position < 0) & (y_velocity < 0):\n",
        "    y_velocity = 0.9 * y_velocity\n",
        "    y_velocity = -y_velocity\n",
        "    bounces = bounces + 1\n",
        "```\n",
        "\n",
        "Then, let's update our acceleration. For acceleration in the y direction, we want to make sure that the drag always acts against the projectile's motion. We can take care of that with a conditional statement:\n",
        "\n",
        "```\n",
        "  x_acceleration = -drag_coefficient * (x_velocity **2)\n",
        "\n",
        "  if (y_velocity > 0):\n",
        "    y_acceleration = -9.81 -drag_coefficient * (y_velocity **2)\n",
        "  else:\n",
        "    y_acceleration = -9.81 +drag_coefficient * (y_velocity **2)\n",
        "\n",
        "```\n",
        "\n",
        "Finally, we update our lists of values:\n",
        "\n",
        "```\n",
        "  time_axis = time_axis + [time]\n",
        "  x_axis = x_axis + [x_position]\n",
        "  y_axis = y_axis + [y_position]\n",
        "\n",
        "```\n",
        "Here's the full while loop in action:"
      ],
      "metadata": {
        "id": "6g0GYISp1Lq1"
      }
    },
    {
      "cell_type": "code",
      "source": [
        "bounces = 0\n",
        "\n",
        "while (time < end_time) & (bounces < 30) & (x_position < 30000):\n",
        "  time = time + time_increment\n",
        "  x_position = x_position + x_velocity * time_increment\n",
        "  y_position = y_position + y_velocity * time_increment\n",
        "  x_velocity = x_velocity + x_acceleration * time_increment\n",
        "  y_velocity = y_velocity + y_acceleration * time_increment\n",
        "\n",
        "\n",
        "  if (y_position <= 0) & (y_velocity < 0):\n",
        "    y_velocity = 0.9 * y_velocity\n",
        "    y_velocity = -y_velocity\n",
        "    bounces = bounces + 1\n",
        "\n",
        "  x_acceleration = -drag_coefficient * (x_velocity **2)\n",
        "\n",
        "  if (y_velocity > 0):\n",
        "    y_acceleration = -9.81 -drag_coefficient * (y_velocity **2)\n",
        "  else:\n",
        "    y_acceleration = -9.81 +drag_coefficient * (y_velocity **2)\n",
        "\n",
        "  time_axis = time_axis + [time]\n",
        "  x_axis = x_axis + [x_position]\n",
        "  y_axis = y_axis + [y_position]\n"
      ],
      "metadata": {
        "id": "FuUNy2li30NM"
      },
      "execution_count": null,
      "outputs": []
    },
    {
      "cell_type": "markdown",
      "source": [
        "And then finally, the graph:"
      ],
      "metadata": {
        "id": "hPI_JDd2OgVU"
      }
    },
    {
      "cell_type": "code",
      "source": [
        "plt.plot(x_axis, y_axis)\n",
        "plt.title(\"Object's Path\")\n",
        "plt.xlabel(\"Distance (m)\")\n",
        "plt.ylabel(\"Height (m)\")\n",
        "plt.grid()\n",
        "plt.show()"
      ],
      "metadata": {
        "id": "_CYeSoGuPM0O"
      },
      "execution_count": null,
      "outputs": []
    },
    {
      "cell_type": "markdown",
      "source": [
        "You can see how although our model is nowhere near perfect, you can combine relatively basic techniques in order to model complex behaviour.\n",
        "\n",
        "The following code box changes the model we've created to add a slider you can use to vary the angle. It also tells you why the while loop modelling the motion stopped:"
      ],
      "metadata": {
        "id": "Mu-47i3-6Nj4"
      }
    },
    {
      "cell_type": "code",
      "source": [
        "def bouncing_projectile(angle):\n",
        "  total_velocity = 100\n",
        "  x_velocity = total_velocity * np.cos(angle/360*2*np.pi)\n",
        "  y_velocity = total_velocity * np.sin(angle/360*2*np.pi)\n",
        "  x_position = 0\n",
        "  y_position = 0\n",
        "  drag_coefficient = 0.03\n",
        "  y_acceleration = -9.81 -drag_coefficient * (y_velocity **2)\n",
        "  x_acceleration = -drag_coefficient * (x_velocity **2)\n",
        "  time = 0\n",
        "  end_time = 1000\n",
        "  time_increment = 0.01\n",
        "  time_axis = [time]\n",
        "  x_axis = [x_position]\n",
        "  y_axis = [y_position]\n",
        "  bounces = 0\n",
        "\n",
        "  while (time < end_time) & (bounces < 30) & (x_position < 200):\n",
        "    time = time + time_increment\n",
        "    x_position = x_position + x_velocity * time_increment\n",
        "    y_position = y_position + y_velocity * time_increment\n",
        "    x_velocity = x_velocity + x_acceleration * time_increment\n",
        "    y_velocity = y_velocity + y_acceleration * time_increment\n",
        "    if (y_position <= 0) & (y_velocity < 0):\n",
        "      y_velocity = 0.9 * y_velocity\n",
        "      y_velocity = -y_velocity\n",
        "      bounces = bounces + 1\n",
        "    x_acceleration = -drag_coefficient * (x_velocity **2)\n",
        "    if (y_velocity > 0):\n",
        "      y_acceleration = -9.81 -drag_coefficient * (y_velocity **2)\n",
        "    else:\n",
        "      y_acceleration = -9.81 +drag_coefficient * (y_velocity **2)\n",
        "    time_axis = time_axis + [time]\n",
        "    x_axis = x_axis + [x_position]\n",
        "    y_axis = y_axis + [y_position]\n",
        "    if time >= end_time:\n",
        "      print(\"Motion Stopped: Time Exceeded\")\n",
        "    if bounces >= 30:\n",
        "      print(\"Motion Stopped: Bounces Exceeded\")\n",
        "    if x_position >= 200:\n",
        "      print(\"Motion Stopped: Distance Exceeded\")\n",
        "\n",
        "  plt.plot(x_axis, y_axis)\n",
        "  plt.title(\"Object's Path\")\n",
        "  plt.xlabel(\"Distance (m)\")\n",
        "  plt.ylabel(\"Height (m)\")\n",
        "  plt.xlim(0, 200)\n",
        "  plt.ylim(0, 60)\n",
        "  plt.grid()\n",
        "  plt.show()\n",
        "\n",
        "interactive_plot = interactive(bouncing_projectile, angle = (0, 90, 0.5))\n",
        "output = interactive_plot.children[-1]\n",
        "interactive_plot\n"
      ],
      "metadata": {
        "id": "gynrjgWqQSRW"
      },
      "execution_count": null,
      "outputs": []
    },
    {
      "cell_type": "markdown",
      "source": [
        "\n",
        "\n",
        "---\n",
        "\n",
        "**TASK 6**\n",
        "\n",
        "Edit the code below such that the projectile bounces back with 110% of its y velocity:\n",
        "\n",
        "(Hint: It currently bounces back with 90%)"
      ],
      "metadata": {
        "id": "Jn4kG7MK9kM4"
      }
    },
    {
      "cell_type": "code",
      "source": [
        "def bouncing_projectile(angle):\n",
        "  total_velocity = 10\n",
        "  x_velocity = total_velocity * np.cos(angle/360*2*np.pi)\n",
        "  y_velocity = total_velocity * np.sin(angle/360*2*np.pi)\n",
        "  x_position = 0\n",
        "  y_position = 0\n",
        "  drag_coefficient = 0.0003\n",
        "  y_acceleration = -9.81 -drag_coefficient * (y_velocity **2)\n",
        "  x_acceleration = -drag_coefficient * (x_velocity **2)\n",
        "  time = 0\n",
        "  end_time = 1000\n",
        "  time_increment = 0.01\n",
        "  time_axis = [time]\n",
        "  x_axis = [x_position]\n",
        "  y_axis = [y_position]\n",
        "  bounces = 0\n",
        "\n",
        "  while (time < end_time) & (bounces < 30) & (x_position < 1500):\n",
        "    time = time + time_increment\n",
        "    x_position = x_position + x_velocity * time_increment\n",
        "    y_position = y_position + y_velocity * time_increment\n",
        "    x_velocity = x_velocity + x_acceleration * time_increment\n",
        "    y_velocity = y_velocity + y_acceleration * time_increment\n",
        "    if (y_position <= 0) & (y_velocity < 0):\n",
        "      y_velocity =  0.9 * y_velocity\n",
        "      y_velocity = -y_velocity\n",
        "      bounces = bounces + 1\n",
        "    x_acceleration = -drag_coefficient * (x_velocity **2)\n",
        "    if (y_velocity > 0):\n",
        "      y_acceleration = -9.81 -drag_coefficient * (y_velocity **2)\n",
        "    else:\n",
        "      y_acceleration = -9.81 +drag_coefficient * (y_velocity **2)\n",
        "    time_axis = time_axis + [time]\n",
        "    x_axis = x_axis + [x_position]\n",
        "    y_axis = y_axis + [y_position]\n",
        "    if time >= end_time:\n",
        "      print(\"Motion Stopped: Time Exceeded\")\n",
        "    if bounces >= 30:\n",
        "      print(\"Motion Stopped: Bounces Exceeded\")\n",
        "    if x_position >= 1500:\n",
        "      print(\"Motion Stopped: Distance Exceeded\")\n",
        "\n",
        "  plt.plot(x_axis, y_axis)\n",
        "  plt.title(\"Object's Path\")\n",
        "  plt.xlabel(\"Distance (m)\")\n",
        "  plt.ylabel(\"Height (m)\")\n",
        "  plt.xlim(0, 1500)\n",
        "  plt.ylim(0, 300)\n",
        "  plt.grid()\n",
        "  plt.show()\n",
        "\n",
        "interactive_plot = interactive(bouncing_projectile, angle = (0, 90, 0.5))\n",
        "output = interactive_plot.children[-1]\n",
        "interactive_plot"
      ],
      "metadata": {
        "id": "h5dvShaU94E2"
      },
      "execution_count": null,
      "outputs": []
    },
    {
      "cell_type": "markdown",
      "source": [
        "The edited model should show the projectile gradually bouncing higher and higher up."
      ],
      "metadata": {
        "id": "lk-H4kr9_06k"
      }
    }
  ]
}